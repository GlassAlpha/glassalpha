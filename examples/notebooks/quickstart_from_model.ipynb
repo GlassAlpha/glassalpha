{
  "cells": [
    {
      "cell_type": "markdown",
      "metadata": {},
      "source": [
        "# Quickstart: 3-Line Audit with `from_model()`\n",
        "\n",
        "This notebook demonstrates the programmatic API for GlassAlpha - auditing a model in 3 lines without YAML configs.\n",
        "\n",
        "**What you'll learn:**\n",
        "- How to audit a model programmatically (no YAML files)\n",
        "- Auto-detection of model types and features\n",
        "- Inline HTML display in Jupyter\n",
        "- Full determinism and reproducibility\n"
      ]
    },
    {
      "cell_type": "markdown",
      "metadata": {},
      "source": [
        "## Install GlassAlpha\n",
        "\n",
        "```bash\n",
        "pip install glassalpha\n",
        "```\n"
      ]
    },
    {
      "cell_type": "markdown",
      "metadata": {},
      "source": [
        "## 1. Train a Simple Model\n"
      ]
    },
    {
      "cell_type": "code",
      "execution_count": null,
      "metadata": {},
      "outputs": [],
      "source": [
        "from sklearn.datasets import make_classification\n",
        "from sklearn.model_selection import train_test_split\n",
        "from sklearn.linear_model import LogisticRegression\n",
        "import pandas as pd\n",
        "import numpy as np\n",
        "\n",
        "# Create sample dataset\n",
        "X, y = make_classification(n_samples=1000, n_features=10, n_informative=5, random_state=42)\n",
        "\n",
        "# Convert to DataFrame\n",
        "feature_names = [f\"feature_{i}\" for i in range(10)]\n",
        "X_df = pd.DataFrame(X, columns=feature_names)\n",
        "\n",
        "# Add protected attributes\n",
        "rng = np.random.RandomState(42)\n",
        "X_df[\"gender\"] = rng.choice([\"M\", \"F\"], size=1000)\n",
        "X_df[\"age_group\"] = rng.choice([\"18-30\", \"31-50\", \"51+\"], size=1000)\n",
        "\n",
        "# Train/test split\n",
        "X_train, X_test, y_train, y_test = train_test_split(X_df, y, test_size=0.3, random_state=42)\n",
        "\n",
        "print(f\"Training set: {X_train.shape}\")\n",
        "print(f\"Test set: {X_test.shape}\")\n"
      ]
    },
    {
      "cell_type": "code",
      "execution_count": null,
      "metadata": {},
      "outputs": [],
      "source": [
        "# Encode categorical features\n",
        "from sklearn.preprocessing import LabelEncoder\n",
        "\n",
        "le_gender = LabelEncoder()\n",
        "le_age = LabelEncoder()\n",
        "\n",
        "X_train_encoded = X_train.copy()\n",
        "X_test_encoded = X_test.copy()\n",
        "\n",
        "X_train_encoded[\"gender\"] = le_gender.fit_transform(X_train[\"gender\"])\n",
        "X_train_encoded[\"age_group\"] = le_age.fit_transform(X_train[\"age_group\"])\n",
        "\n",
        "X_test_encoded[\"gender\"] = le_gender.transform(X_test[\"gender\"])\n",
        "X_test_encoded[\"age_group\"] = le_age.transform(X_test[\"age_group\"])\n",
        "\n",
        "# Train model\n",
        "model = LogisticRegression(random_state=42, max_iter=1000)\n",
        "model.fit(X_train_encoded, y_train)\n",
        "\n",
        "print(f\"Model trained! Accuracy: {model.score(X_test_encoded, y_test):.3f}\")\n"
      ]
    },
    {
      "cell_type": "markdown",
      "metadata": {},
      "source": [
        "## 2. Audit in 3 Lines\n",
        "\n",
        "No YAML files needed - just pass your model and data!\n"
      ]
    },
    {
      "cell_type": "code",
      "execution_count": null,
      "metadata": {},
      "outputs": [],
      "source": [
        "from glassalpha import AuditPipeline\n",
        "\n",
        "result = AuditPipeline.from_model(\n",
        "    model=model,\n",
        "    X_test=X_test_encoded,\n",
        "    y_test=y_test,\n",
        "    protected_attributes=[\"gender\", \"age_group\"]\n",
        ")\n"
      ]
    },
    {
      "cell_type": "raw",
      "metadata": {
        "vscode": {
          "languageId": "raw"
        }
      },
      "source": [
        "## 3. View Results\n",
        "\n",
        "The result auto-displays in Jupyter\n"
      ]
    },
    {
      "cell_type": "code",
      "execution_count": null,
      "metadata": {},
      "outputs": [],
      "source": [
        "result  # Auto-displays audit summary!\n"
      ]
    },
    {
      "cell_type": "markdown",
      "metadata": {},
      "source": [
        "ation."
      ]
    },
    {
      "cell_type": "markdown",
      "metadata": {},
      "source": [
        "new phase 2 OSS roadmap"
      ]
    }
  ],
  "metadata": {
    "language_info": {
      "name": "python"
    }
  },
  "nbformat": 4,
  "nbformat_minor": 2
}
